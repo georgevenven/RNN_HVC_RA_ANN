{
 "cells": [
  {
   "cell_type": "code",
   "execution_count": 8,
   "metadata": {},
   "outputs": [],
   "source": [
    "# import pytorch\n",
    "import torch\n",
    "import torch.nn as nn\n",
    "import torch.nn.functional as F\n",
    "import torch.optim as optim\n",
    "\n",
    "import numpy as np"
   ]
  },
  {
   "cell_type": "code",
   "execution_count": 9,
   "metadata": {},
   "outputs": [],
   "source": [
    "class HVC_RA(nn.Module):\n",
    "    def __init__(self, input_size, hidden_size, output_size, layer_dim):\n",
    "        super(HVC_RA, self).__init__()\n",
    "        self.input_size = input_size\n",
    "        self.hidden_size = hidden_size\n",
    "        self.output_size = output_size\n",
    "        self.layer_dim = layer_dim\n",
    "\n",
    "        self.HVC = nn.RNN(input_size, hidden_size, layer_dim, batch_first=True, nonlinearity='relu')\n",
    "        self.RA = nn.Linear(hidden_size, output_size)\n",
    "\n",
    "    def forward(self, x):\n",
    "        h0 = torch.zeros(self.layer_dim, x.size(0), self.hidden_size).requires_grad_()\n",
    "        out, hn = self.HVC(x, h0.detach())\n",
    "        out = self.RA(out[:, -1, :])\n",
    "        return out"
   ]
  },
  {
   "cell_type": "code",
   "execution_count": 71,
   "metadata": {},
   "outputs": [],
   "source": [
    "class Training():\n",
    "    def __init__(self):\n",
    "        pass\n",
    "        \n",
    "    def generate_syllables(self, syllable_count):\n",
    "        '''\n",
    "        Purpose: \n",
    "            - Generate syllables for training\n",
    "            - 4 params for syllable generation, freq, amplitude, y-offset, length\n",
    "        Input: \n",
    "            - Number of syllables to generate\n",
    "        Output: \n",
    "            - returns songs as a numpy array of shape (syllable_count * individual lengths, 3)\n",
    "            - returns length of eachs syllable \n",
    "            - returns the input to the network for each syllable\n",
    "        ''' \n",
    "        \n",
    "        # careful, the code below is cringe af!\n",
    "        syllable_duration = np.random.uniform(3, 10, syllable_count)\n",
    "        syllable_duration = np.array(syllable_duration, dtype=int)\n",
    "\n",
    "        total_syllable_length = np.sum(syllable_duration)\n",
    "\n",
    "        syllables = np.zeros((total_syllable_length, 3))\n",
    "        \n",
    "        cum_length = 0\n",
    "        for length in syllable_duration:\n",
    "            freq = np.random.uniform(0, 1)\n",
    "            amp = np.random.uniform(0, 1)\n",
    "            y_offset = np.random.uniform(0, 1)\n",
    "            for t in range(length):\n",
    "                syllables[cum_length, 0] = freq\n",
    "                syllables[cum_length, 1] = amp\n",
    "                syllables[cum_length, 2] = y_offset\n",
    "                cum_length += 1\n",
    "\n",
    "        self.syllables = syllables\n",
    "\n",
    "        return syllables, syllable_duration\n",
    "\n",
    "    def loss_function(self):\n",
    "        pass\n",
    "\n",
    "    def train(self, model, train_loader, optimizer, epoch):\n",
    "        pass\n",
    "\n",
    "    def get_syllables(self):\n",
    "        return self.syllables"
   ]
  },
  {
   "cell_type": "code",
   "execution_count": 72,
   "metadata": {},
   "outputs": [],
   "source": [
    "train = Training()\n",
    "\n",
    "train.generate_syllables(10)\n",
    "\n",
    "syllables = train.get_syllables()"
   ]
  }
 ],
 "metadata": {
  "kernelspec": {
   "display_name": "Python 3",
   "language": "python",
   "name": "python3"
  },
  "language_info": {
   "codemirror_mode": {
    "name": "ipython",
    "version": 3
   },
   "file_extension": ".py",
   "mimetype": "text/x-python",
   "name": "python",
   "nbconvert_exporter": "python",
   "pygments_lexer": "ipython3",
   "version": "3.10.9"
  },
  "orig_nbformat": 4
 },
 "nbformat": 4,
 "nbformat_minor": 2
}
